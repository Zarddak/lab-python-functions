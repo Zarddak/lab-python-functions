{
 "cells": [
  {
   "cell_type": "markdown",
   "id": "25d7736c-ba17-4aff-b6bb-66eba20fbf4e",
   "metadata": {},
   "source": [
    "# Lab | Functions"
   ]
  },
  {
   "cell_type": "markdown",
   "id": "0c581062-8967-4d93-b06e-62833222f930",
   "metadata": {
    "tags": []
   },
   "source": [
    "## Exercise: Managing Customer Orders with Functions\n",
    "\n",
    "In the previous exercise, you improved the code for managing customer orders by using loops and flow control. Now, let's take it a step further and refactor the code by introducing functions.\n",
    "\n",
    "Follow the steps below to complete the exercise:\n",
    "\n",
    "1. Define a function named `initialize_inventory` that takes `products` as a parameter. Inside the function, implement the code for initializing the inventory dictionary using a loop and user input.\n",
    "\n",
    "2. Define a function named `get_customer_orders` that takes no parameters. Inside the function, implement the code for prompting the user to enter the product names using a loop. The function should return the `customer_orders` set.\n",
    "\n",
    "3. Define a function named `update_inventory` that takes `customer_orders` and `inventory` as parameters. Inside the function, implement the code for updating the inventory dictionary based on the customer orders.\n",
    "\n",
    "4. Define a function named `calculate_order_statistics` that takes `customer_orders` and `products` as parameters. Inside the function, implement the code for calculating the order statistics (total products ordered, and percentage of unique products ordered). The function should return these values.\n",
    "\n",
    "5. Define a function named `print_order_statistics` that takes `order_statistics` as a parameter. Inside the function, implement the code for printing the order statistics.\n",
    "\n",
    "6. Define a function named `print_updated_inventory` that takes `inventory` as a parameter. Inside the function, implement the code for printing the updated inventory.\n",
    "\n",
    "7. Call the functions in the appropriate sequence to execute the program and manage customer orders.\n",
    "\n",
    "Hints for functions:\n",
    "\n",
    "- Consider the input parameters required for each function and their return values.\n",
    "- Utilize function parameters and return values to transfer data between functions.\n",
    "- Test your functions individually to ensure they work correctly.\n",
    "\n",
    "\n"
   ]
  },
  {
   "cell_type": "code",
   "execution_count": 3,
   "id": "3fa00134-05ce-467e-9fff-3c0fcedb3441",
   "metadata": {},
   "outputs": [],
   "source": [
    "products = [\"t-shirt\", \"mug\", \"hat\", \"book\", \"keychain\"]\n",
    "\n",
    "inventory = {}"
   ]
  },
  {
   "cell_type": "code",
   "execution_count": 4,
   "id": "e47835bb-c798-47aa-a959-07b0eaac8170",
   "metadata": {},
   "outputs": [
    {
     "name": "stdin",
     "output_type": "stream",
     "text": [
      "Enter the quantity for t-shirt:  10\n",
      "Enter the quantity for mug:  15\n",
      "Enter the quantity for hat:  10\n",
      "Enter the quantity for book:  20\n",
      "Enter the quantity for keychain:  30\n"
     ]
    },
    {
     "name": "stdout",
     "output_type": "stream",
     "text": [
      "{'t-shirt': 10, 'mug': 15, 'hat': 10, 'book': 20, 'keychain': 30}\n"
     ]
    }
   ],
   "source": [
    "def initialize_inventory(products):\n",
    "    for product in products:\n",
    "        quantity = int(input(f\"Enter the quantity for {product}: \"))\n",
    "        inventory[product] = quantity\n",
    "    return inventory\n",
    "\n",
    "inventory = initialize_inventory(products)\n",
    "print(inventory)"
   ]
  },
  {
   "cell_type": "code",
   "execution_count": 5,
   "id": "e2642c7a-5fae-4987-9c63-26f7f929e6ad",
   "metadata": {},
   "outputs": [],
   "source": [
    "customer_orders = set()"
   ]
  },
  {
   "cell_type": "code",
   "execution_count": 6,
   "id": "e2ef8229-7cbf-4cac-9258-9c27873fd13e",
   "metadata": {},
   "outputs": [
    {
     "name": "stdin",
     "output_type": "stream",
     "text": [
      "Enter the name of product to order:  mug\n",
      "Do you want to add another product? (yes/no):  yes\n",
      "Enter the name of product to order:  hat\n",
      "Do you want to add another product? (yes/no):  yes\n",
      "Enter the name of product to order:  book\n",
      "Do you want to add another product? (yes/no):  no\n"
     ]
    },
    {
     "name": "stdout",
     "output_type": "stream",
     "text": [
      "Customer Orders: {'book', 'hat', 'mug'}\n"
     ]
    }
   ],
   "source": [
    "def get_customer_orders():\n",
    "    while True:\n",
    "        order = input(f\"Enter the name of product to order: \")\n",
    "        if order in products:\n",
    "            customer_orders.add(order)\n",
    "            another_order = input(\"Do you want to add another product? (yes/no): \")\n",
    "            if another_order != \"yes\":\n",
    "                break\n",
    "        else:\n",
    "            print (f\"{order} is not in the available products list.\")\n",
    "    return customer_orders\n",
    "\n",
    "orders = get_customer_orders()\n",
    "print(\"Customer Orders:\", orders)"
   ]
  },
  {
   "cell_type": "code",
   "execution_count": 7,
   "id": "303de55d-7808-4d67-8f12-225162718af5",
   "metadata": {},
   "outputs": [
    {
     "name": "stdout",
     "output_type": "stream",
     "text": [
      "{'t-shirt': 10, 'mug': 14, 'hat': 9, 'book': 19, 'keychain': 30}\n"
     ]
    }
   ],
   "source": [
    "def update_inventory(customer_orders, inventory):\n",
    "    for product in customer_orders:\n",
    "        if product in inventory and inventory[product] > 0:\n",
    "            inventory[product] -= 1\n",
    "        else:\n",
    "            print(f\"{product} is out of stock or not available.\")\n",
    "\n",
    "    return inventory\n",
    "\n",
    "updated_inventory = update_inventory(customer_orders, inventory)\n",
    "\n",
    "print(updated_inventory)"
   ]
  },
  {
   "cell_type": "code",
   "execution_count": 16,
   "id": "037ab1f9-afdf-4f2a-a24e-3cac9a678b70",
   "metadata": {},
   "outputs": [
    {
     "name": "stdout",
     "output_type": "stream",
     "text": [
      "Number of products ordered:  3\n",
      "Percentage of unique products ordered:  60.0 %\n"
     ]
    }
   ],
   "source": [
    "def calculate_order_statistics(customer_orders, products):\n",
    "    total_products_ordered = len(customer_orders)\n",
    "    percentage_unique_products_ordered = (total_products_ordered / len(products)) * 100\n",
    "    return total_products_ordered, percentage_unique_products_ordered\n",
    "\n",
    "total_ordered, unique_percentage = calculate_order_statistics(customer_orders, products)\n",
    "\n",
    "print('Number of products ordered: ', total_ordered)\n",
    "print('Percentage of unique products ordered: ', unique_percentage, '%')"
   ]
  },
  {
   "cell_type": "code",
   "execution_count": 21,
   "id": "11796eaf-b6bc-4072-bcb4-e8904c943171",
   "metadata": {},
   "outputs": [
    {
     "name": "stdout",
     "output_type": "stream",
     "text": [
      "Number of products ordered:  3\n",
      "Percentage of unique products ordered:  60.0 %\n"
     ]
    }
   ],
   "source": [
    "def print_order_statistics(order_statistics):\n",
    "    total_ordered, unique_percentage = order_statistics\n",
    "\n",
    "print('Number of products ordered: ', total_ordered)\n",
    "print('Percentage of unique products ordered: ', unique_percentage, '%')"
   ]
  },
  {
   "cell_type": "code",
   "execution_count": 33,
   "id": "fa7a3717-8a25-48e6-901e-8865f19cd9c6",
   "metadata": {},
   "outputs": [
    {
     "name": "stdout",
     "output_type": "stream",
     "text": [
      "Updated Inventory:\n",
      "t-shirt: 10\n",
      "mug: 14\n",
      "hat: 9\n",
      "book: 19\n",
      "keychain: 30\n"
     ]
    }
   ],
   "source": [
    "def print_updated_inventory(inventory):\n",
    "    print(\"Updated Inventory:\")\n",
    "    for product, quantity in inventory.items():\n",
    "        print(f\"{product}: {quantity}\")\n",
    "\n",
    "print_updated_inventory(updated_inventory)"
   ]
  }
 ],
 "metadata": {
  "kernelspec": {
   "display_name": "Python 3 (ipykernel)",
   "language": "python",
   "name": "python3"
  },
  "language_info": {
   "codemirror_mode": {
    "name": "ipython",
    "version": 3
   },
   "file_extension": ".py",
   "mimetype": "text/x-python",
   "name": "python",
   "nbconvert_exporter": "python",
   "pygments_lexer": "ipython3",
   "version": "3.12.4"
  }
 },
 "nbformat": 4,
 "nbformat_minor": 5
}
